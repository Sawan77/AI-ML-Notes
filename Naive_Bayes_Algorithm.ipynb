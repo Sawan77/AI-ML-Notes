{
  "cells": [
    {
      "cell_type": "markdown",
      "metadata": {
        "id": "kyKsQmFUeqaL"
      },
      "source": [
        "# UNDERSTAND THE THEORY AND INTUITION BEHIND NAIVE BAYES"
      ]
    },
    {
      "cell_type": "code",
      "source": [
        "# Import required libraries to show images\n",
        "import os\n",
        "import matplotlib.pyplot as plt\n",
        "\n",
        "# Mount the Google Drive to access the image files\n",
        "from google.colab import drive\n",
        "drive.mount('/content/drive')\n",
        "\n",
        "# Navigate to the Image Folder\n",
        "os.chdir('/content/drive/My Drive/Jupyter_Images')\n",
        "\n",
        "# Trial - Load and Display the Image\n",
        "img = plt.imread('NaiveBayes0.png')\n",
        "plt.imshow(img)"
      ],
      "metadata": {
        "id": "20W50S--_imQ"
      },
      "execution_count": 1,
      "outputs": []
    },
    {
      "cell_type": "markdown",
      "metadata": {
        "id": "eNr9TsOJsz-1"
      },
      "source": [
        "## Conditional Probability\n",
        "\n",
        "Conditional probability is defined as the likelihood of an event or outcome occurring, based on the occurrence of a previous event or outcome. Conditional probability is calculated by multiplying the probability of the preceding event by the updated probability of the succeeding, or conditional, event.\n",
        "\n",
        "![Naive Bayes Image](https://drive.usercontent.google.com/download?id=1GNz37N0oG1Cmc2Q7Yu4A9EsPnR2l_6Bb&export=view&authuser=0)"
      ]
    },
    {
      "cell_type": "markdown",
      "source": [
        "Note - Created direct ID for the image using their File ID:\n",
        "https://drive.google.com/uc?export=view&id=1A2B3C4D5E6F7G8H"
      ],
      "metadata": {
        "id": "MZZuvH2wCNrT"
      }
    },
    {
      "cell_type": "markdown",
      "metadata": {
        "id": "O3RNK7YAsz-2"
      },
      "source": [
        "## Bayes Rule\n",
        "\n",
        "Bayes’ theorem provides a means for calculating the probability of an event given some information.\n",
        "\n",
        "Mathematically Bayes’ theorem can be stated as:\n",
        "\n",
        "![Naive Bayes Image](https://drive.google.com/uc?export=view&id=1z9LL61jvKJO0YJSyHVaxD-CtS6r2LBfv)\n",
        "\n",
        "\n",
        "Basically, we are trying to find the probability of event A, given event B is true.\n",
        "\n",
        "Here P(B) is called prior probability which means it is the probability of an event before the evidence\n",
        "\n",
        "P(B|A) is called the posterior probability i.e., Probability of an event after the evidence is seen."
      ]
    },
    {
      "cell_type": "markdown",
      "metadata": {
        "id": "ITtO0mkLsz-3"
      },
      "source": [
        "![Naive Bayes Image](https://drive.google.com/uc?export=view&id=16nur6B6ffCQcHkaGXT5HfJ7k30ME8ACB)"
      ]
    },
    {
      "cell_type": "markdown",
      "metadata": {
        "id": "SInv2a14sz-3"
      },
      "source": [
        "## What is Naive Bayes?\n",
        "\n",
        "When the features are independent, we can extend Bayes’ rule to what is called Naive Bayes which assumes that the features are independent that means changing the value of one feature doesn’t influence the values of other variables and this is why we call this algorithm “NAIVE”.\n",
        "\n",
        "The Naive Bayes algorithm is a probabilistic classification technique based on Bayes’ theorem. It assumes that all features in the data are independent of each other, given the class label. It calculates the probability of a particular class for a given set of features and selects the class with the highest probability as the predicted class.\n",
        "\n",
        "Naive Bayes can be used for various things like face recognition, weather prediction, Medical Diagnosis, News classification, Sentiment Analysis, spam filtering, and a lot more.\n",
        "\n",
        "When there are multiple X variables, we simplify it by assuming that X’s are independent, so\n",
        "\n",
        "![Naive Bayes Image](https://drive.google.com/uc?export=view&id=11kb_yDnnmGg1P2oU-vAaGGHpbUQ_hgJ6)"
      ]
    },
    {
      "cell_type": "markdown",
      "metadata": {
        "id": "RngEzD4osz-4"
      },
      "source": [
        "![Naive Bayes Image](https://drive.google.com/uc?export=view&id=1hvnKiSeedr80NngFaoveSK67ss9nuOQT)"
      ]
    },
    {
      "cell_type": "markdown",
      "metadata": {
        "id": "rwjfBL3fsz-4"
      },
      "source": [
        "#### Example of Naive Bayes\n",
        "\n",
        "Let’s take a dataset to predict whether we can pet an animal or not.\n",
        "\n",
        "![Naive Bayes Image](https://drive.google.com/uc?export=view&id=1wrTqg4R1k0p_Skp0B2CKr8f5drHSgZ1T)"
      ]
    },
    {
      "cell_type": "markdown",
      "metadata": {
        "id": "_ZpwEW0gsz-5"
      },
      "source": [
        "###### Assumptions of Naive Bayes\n",
        "\n",
        "1. All the variables are independent. That is if the animal is Dog that doesn’t mean that Size will be Medium\n",
        "\n",
        "2. All the predictors have an equal effect on the outcome. That is, the animal being dog does not have more importance in deciding If we can pet him or not. All the features have equal importance."
      ]
    },
    {
      "cell_type": "markdown",
      "metadata": {
        "id": "QYWEHy86sz-5"
      },
      "source": [
        "We need to find P(xi|yj) for each xi in X and each yj in Y. All these calculations have been demonstrated below:\n",
        "\n",
        "![Naive Bayes Image](https://drive.google.com/uc?export=view&id=1z-eW-s1aBJBhgQ9is999-tI1M_S-PCFi)"
      ]
    },
    {
      "cell_type": "markdown",
      "metadata": {
        "id": "IJRpyn8nsz-5"
      },
      "source": [
        "We also need the probabilities (P(y)), which are calculated in the table below. For example,\n",
        "- P(Pet Animal = NO) = 6/14\n",
        "- P(Pet Animal = Yes) = 8/14\n",
        "- Total = 14/14 = 100%"
      ]
    },
    {
      "cell_type": "markdown",
      "metadata": {
        "id": "TYuD20HFsz-6"
      },
      "source": [
        "**Now if we send our test data, suppose test = (Cow, Medium, Black)**\n",
        "\n",
        "Probability of petting an animal :\n",
        "\n",
        "![Naive Bayes Image](https://drive.google.com/uc?export=view&id=16qSMgpK-JIGymNAplkMx1jxIq0OJbJVW)"
      ]
    },
    {
      "cell_type": "markdown",
      "metadata": {
        "id": "zP0R06Cysz-6"
      },
      "source": [
        "![Naive Bayes Image](https://drive.google.com/uc?export=view&id=11tiIECU76po4ICAdv4srbpebdNF72WpP)"
      ]
    },
    {
      "cell_type": "markdown",
      "metadata": {
        "id": "wFMiyJ63sz-6"
      },
      "source": [
        "We know P(Yes|Test)+P(No|test) = 1\n",
        "\n",
        "So, we will normalize the result:"
      ]
    },
    {
      "cell_type": "markdown",
      "metadata": {
        "id": "j58jhW3Ksz-6"
      },
      "source": [
        "![Naive Bayes Image](https://drive.google.com/uc?export=view&id=13_Q1hqyacnxVDtqSY7gY-fp71iugoMkE)"
      ]
    },
    {
      "cell_type": "markdown",
      "metadata": {
        "id": "C4bTPUuvsz-6"
      },
      "source": [
        "**We see here that P(Yes|Test) > P(No|Test), so the prediction that we can pet this animal is “Yes”.**\n",
        "\n",
        "https://www.analyticsvidhya.com/blog/2021/09/naive-bayes-algorithm-a-complete-guide-for-data-science-enthusiasts/"
      ]
    },
    {
      "cell_type": "markdown",
      "metadata": {
        "id": "lJ6AFc5nsz-8"
      },
      "source": [
        "###### Youtube videos- Naive Bayes & Gaussian Naive Bayes\n",
        "- https://www.youtube.com/watch?v=O2L2Uv9pdDA&t=1s\n",
        "- https://www.youtube.com/watch?v=H3EjCKtlVog&t=1s"
      ]
    },
    {
      "cell_type": "markdown",
      "metadata": {
        "id": "KqtwCOx-sz-8"
      },
      "source": [
        "###### Youtube videos- Bayesian Classifiers Maths\n",
        "- https://www.youtube.com/watch?v=lFJbZ6LVxN8"
      ]
    },
    {
      "cell_type": "markdown",
      "metadata": {
        "id": "gI3m5svnsz-8"
      },
      "source": [
        "###### Youtube videos- Bayes' Theorem\n",
        "- https://www.youtube.com/watch?v=cqTwHnNbc8g\n",
        "- https://www.youtube.com/watch?v=pQnXYlo5ooM\n",
        "- https://www.youtube.com/watch?v=YexGjE7WWD4"
      ]
    },
    {
      "cell_type": "markdown",
      "metadata": {
        "id": "DHM0R07Esz-8"
      },
      "source": [
        "###### Articles- Bayes' Theorem\n",
        "- https://www.analyticsvidhya.com/blog/2019/06/introduction-powerful-bayes-theorem-data-science/\n",
        "- https://www.analyticsvidhya.com/blog/2022/07/the-bayes-theorem-and-football/"
      ]
    },
    {
      "cell_type": "code",
      "execution_count": null,
      "metadata": {
        "id": "nYYLib6isz-8"
      },
      "outputs": [],
      "source": []
    }
  ],
  "metadata": {
    "accelerator": "GPU",
    "colab": {
      "provenance": []
    },
    "kernelspec": {
      "display_name": "Python 3",
      "language": "python",
      "name": "python3"
    },
    "language_info": {
      "codemirror_mode": {
        "name": "ipython",
        "version": 3
      },
      "file_extension": ".py",
      "mimetype": "text/x-python",
      "name": "python",
      "nbconvert_exporter": "python",
      "pygments_lexer": "ipython3",
      "version": "3.8.8"
    }
  },
  "nbformat": 4,
  "nbformat_minor": 0
}